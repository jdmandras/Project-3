{
 "cells": [
  {
   "cell_type": "code",
   "execution_count": 9,
   "metadata": {},
   "outputs": [],
   "source": [
    "# Dependencies\n",
    "import json\n",
    "import requests\n",
    "import pandas as pd\n",
    "import csv\n",
    "from citipy import citipy\n",
    "from config import api_key\n"
   ]
  },
  {
   "cell_type": "code",
   "execution_count": 10,
   "metadata": {},
   "outputs": [],
   "source": [
    "# Save config information.\n",
    "url = \"http://api.openweathermap.org/data/2.5/air_pollution/history?\"\n",
    "coords= \"coords\"\n",
    "start= -1462990123\n",
    "end= 1692769848\n",
    "\n",
    "\n",
    "# Build partial query URL\n",
    "# query_url = f\"{url}lat={coords[0]}&lon={coords[1]}&appid={api_key}\"\n",
    "query_url = f\"http://api.openweathermap.org/data/2.5/air_pollution/history?start={start}&end={end}&appid={api_key}\"\n",
    "\n"
   ]
  },
  {
   "cell_type": "code",
   "execution_count": 11,
   "metadata": {},
   "outputs": [],
   "source": [
    "# List of cities using coordinates\n",
    "city_coordinates =[[48.8534,2.3488], [51.5085,-0.1257], [41.3888,2.1590], [39.9075,116.3972],[19.0144,72.8479],[35.6895,139.6917],[40.7143,-74.0060],[47.6062,-122.3321],[32.7668,-96.7836],[-33.8679,151.2073],[28.0836,-80.6081],[30.0626,31.2497],[-26.2023,28.0436],[6.5833,3.7500],[-23.5475,-46.6361],[-34.6132,-58.3772],[4.6097,-74.0817]]\n",
    "\n",
    "# set up lists to hold reponse info\n",
    "dt = []\n",
    "aqi = []\n",
    "componentsco = []\n",
    "componentsno = []\n",
    "componentsno2 =[]\n",
    "componentso3 = []\n",
    "componentsso2= []\n",
    "componentspm2_5 = []\n",
    "componentspm10 = []\n",
    "componentsnh3= []\n",
    "\n",
    "\n",
    "# Loop through the list of cities coordinates and perform a request for data on each\n",
    "for coords in city_coordinates[:1]:\n",
    "    response = requests.get(f\"{query_url}&lat={coords[0]}&lon={coords[1]}\").json()\n",
    "    # lon.append(response['list'][0]['dt'])\n",
    "    # main.append(response['list']['aqi'])\n",
    "    # componentsco.append(response['components']['components.co'])\n",
    "    # componentsno.append(response['components']['components.no'])\n",
    "    # componentsno2.append(response['components']['components.no2'])\n",
    "    # componentso3.append(response['components']['components.o3'])\n",
    "    # componentsso2.append(response['components']['components.so2'])\n",
    "    # componentspm10.append(response['components']['components.pm10'])\n",
    "    # componentspm2_5.append(response['components']['components.pm2_5'])\n",
    "    # componentsnh3.append(response['components']['components.nh3'])\n",
    "\n"
   ]
  },
  {
   "cell_type": "code",
   "execution_count": 12,
   "metadata": {},
   "outputs": [],
   "source": [
    "\n",
    "# Read JSON data from file\n",
    "with open('response.json', 'r') as json_file:\n",
    "    json_data = json.load(json_file)\n",
    "    lat= json_data['coord']['lat']\n",
    "    lon= json_data['coord']['lon']\n",
    "\n",
    "# Convert JSON data to a suitable format (list of dictionaries)\n",
    "data_to_write = []\n",
    "\n",
    "for item in json_data['list']:\n",
    "    data_to_write.append({\n",
    "        'lon': lon,\n",
    "        'lat': lat,\n",
    "        'aqi': item['main']['aqi'],\n",
    "        'co': item['components']['co'],\n",
    "        'no': item['components']['no'],\n",
    "        'no2': item['components']['no2'],\n",
    "        'o3': item['components']['o3'],\n",
    "        'so2': item['components']['so2'],\n",
    "        'pm2_5': item['components']['pm2_5'],\n",
    "        'pm10': item['components']['pm10'],\n",
    "        'nh3': item['components']['nh3'],\n",
    "        'dt': item['dt'],\n",
    "        \n",
    "    })\n",
    "\n",
    "# Write data to CSV file\n",
    "csv_file_path = 'historical_data.csv'\n",
    "\n",
    "with open(csv_file_path, 'w', newline='', encoding='utf-8') as csv_file:\n",
    "    fieldnames = ['lon', 'lat', 'aqi', 'co', 'no', 'no2','o3','so2','pm2_5','pm10','nh3','dt']  # Define field names\n",
    "    writer = csv.DictWriter(csv_file, fieldnames=fieldnames)\n",
    "\n",
    "    writer.writeheader()  # Write CSV header\n",
    "    writer.writerows(data_to_write)  # Write data rows\n"
   ]
  }
 ],
 "metadata": {
  "kernelspec": {
   "display_name": "base",
   "language": "python",
   "name": "python3"
  },
  "language_info": {
   "codemirror_mode": {
    "name": "ipython",
    "version": 3
   },
   "file_extension": ".py",
   "mimetype": "text/x-python",
   "name": "python",
   "nbconvert_exporter": "python",
   "pygments_lexer": "ipython3",
   "version": "3.9.13"
  },
  "orig_nbformat": 4,
  "vscode": {
   "interpreter": {
    "hash": "3a9e2e14d40b88377c92fb58f5899e53e902ecec2c0e590e7c67669b07712148"
   }
  }
 },
 "nbformat": 4,
 "nbformat_minor": 2
}
