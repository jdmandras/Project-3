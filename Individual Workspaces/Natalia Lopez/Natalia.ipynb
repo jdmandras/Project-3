{
 "cells": [
  {
   "cell_type": "code",
   "execution_count": null,
   "metadata": {},
   "outputs": [],
   "source": [
    "#API Call of Global Warming CO2\n",
    "import requests\n",
    "import json\n",
    "import pandas as pd\n",
    "import csv\n",
    "import os\n",
    "import matplotlib.pyplot as plt"
   ]
  },
  {
   "cell_type": "code",
   "execution_count": null,
   "metadata": {},
   "outputs": [],
   "source": [
    "# Make API Call and Get JSON Data\n",
    "url = 'https://global-warming.org/api/co2-api'\n",
    "\n",
    "co2_response = requests.get(url)\n",
    "\n",
    "print(co2_response.json())"
   ]
  },
  {
   "cell_type": "code",
   "execution_count": null,
   "metadata": {},
   "outputs": [],
   "source": [
    "if co2_response.status_code == 200:\n",
    "    data = co2_response.json()\n",
    "else:\n",
    "    print(\"Failed to fetch data from the API.\")\n",
    "    exit()"
   ]
  },
  {
   "cell_type": "code",
   "execution_count": null,
   "metadata": {},
   "outputs": [],
   "source": [
    "# Save JSON to a File\n",
    "with open('data.json', 'w') as json_file:\n",
    "    json.dump(data, json_file)"
   ]
  },
  {
   "cell_type": "code",
   "execution_count": null,
   "metadata": {},
   "outputs": [],
   "source": [
    "# Read JSON Data\n",
    "with open('data.json', 'r') as json_file:\n",
    "    data = json.load(json_file)"
   ]
  },
  {
   "cell_type": "code",
   "execution_count": null,
   "metadata": {},
   "outputs": [],
   "source": [
    "data"
   ]
  },
  {
   "cell_type": "code",
   "execution_count": null,
   "metadata": {},
   "outputs": [],
   "source": [
    "# Convert JSON to CSV\n",
    "csv_data = []\n",
    "for item in data['co2']:\n",
    "    csv_data.append([item['year'], item['month'], item['day'], item['cycle'], item['trend']])\n",
    "    #print (item)"
   ]
  },
  {
   "cell_type": "code",
   "execution_count": null,
   "metadata": {},
   "outputs": [],
   "source": [
    "# Write CSV to \"resources\" Folder\n",
    "# Define the CSV file\n",
    "csv_file_path = os.path.join('../../Resources/co2_data.csv')\n",
    "\n",
    "with open(csv_file_path, 'w', newline='') as csv_file:\n",
    "    csv_writer = csv.writer(csv_file)\n",
    "    csv_writer.writerow(['year', 'month', 'day', 'cycle', 'trend'])\n",
    "    csv_writer.writerows(csv_data)\n",
    "\n",
    "print(f'CSV file saved to: {csv_file_path}')"
   ]
  },
  {
   "cell_type": "code",
   "execution_count": null,
   "metadata": {},
   "outputs": [],
   "source": [
    "# Open and Read CSV File\n",
    "co2_data_csv_file_path = '../../resources/co2_data.csv'\n",
    "\n",
    "co2_data_frame = pd.read_csv(co2_data_csv_file_path)\n",
    "co2_data_frame"
   ]
  },
  {
   "cell_type": "code",
   "execution_count": null,
   "metadata": {},
   "outputs": [],
   "source": [
    "# Group data by year and perform aggregation (e.g., calculate mean)\n",
    "co2_grouped_by_year = co2_data_frame.groupby('year').mean()\n",
    "\n",
    "# Display the grouped data\n",
    "print(co2_grouped_by_year)"
   ]
  },
  {
   "cell_type": "code",
   "execution_count": null,
   "metadata": {},
   "outputs": [],
   "source": []
  },
  {
   "cell_type": "code",
   "execution_count": null,
   "metadata": {},
   "outputs": [],
   "source": [
    "# Plotting the trend by date\n",
    "co2_grouped_by_year['trend'].plot(figsize=(10, 6))\n",
    "plt.title('Trend by Date')\n",
    "plt.xlabel('Year')\n",
    "plt.ylabel('Trend')\n",
    "plot_file_path = 'co2byyear_plot.png'\n",
    "plt.savefig(plot_file_path)\n",
    "plt.show()"
   ]
  },
  {
   "cell_type": "code",
   "execution_count": null,
   "metadata": {},
   "outputs": [],
   "source": [
    "# Select specific columns\n",
    "selected_columns = co2_data_frame[['month','trend']]\n",
    "\n",
    "print(selected_columns)"
   ]
  },
  {
   "cell_type": "code",
   "execution_count": null,
   "metadata": {},
   "outputs": [],
   "source": [
    "# Select data from a specific year (e.g., 2020)\n",
    "data_from_year_reset_index = selected_columns.reset_index()\n",
    "\n",
    "print(data_from_year_reset_index)"
   ]
  },
  {
   "cell_type": "code",
   "execution_count": null,
   "metadata": {},
   "outputs": [],
   "source": [
    "year_to_select = 2020\n",
    "data_from_year_2020 = data_from_year_reset_index[data_from_year_reset_index['year'] == year_to_select]\n",
    "\n",
    "print(data_from_year_2020)"
   ]
  },
  {
   "cell_type": "code",
   "execution_count": null,
   "metadata": {},
   "outputs": [],
   "source": [
    "co22020bymonth = data_from_year_2020.groupby('month').mean()"
   ]
  },
  {
   "cell_type": "code",
   "execution_count": null,
   "metadata": {},
   "outputs": [],
   "source": [
    "# Plotting the trend by month in 2020\n",
    "co22020bymonth['trend'].plot(figsize=(10, 6))\n",
    "plt.title('Trend by month in 2020')\n",
    "plt.xlabel('Month')\n",
    "plt.ylabel('Trend')\n",
    "plot_file_path = 'co2_2020_month_plot.png'\n",
    "plt.savefig(plot_file_path)\n",
    "plt.show()"
   ]
  }
 ],
 "metadata": {
  "kernelspec": {
   "display_name": "Python 3",
   "language": "python",
   "name": "python3"
  },
  "language_info": {
   "codemirror_mode": {
    "name": "ipython",
    "version": 3
   },
   "file_extension": ".py",
   "mimetype": "text/x-python",
   "name": "python",
   "nbconvert_exporter": "python",
   "pygments_lexer": "ipython3",
   "version": "3.11.3"
  },
  "orig_nbformat": 4,
  "vscode": {
   "interpreter": {
    "hash": "31f2aee4e71d21fbe5cf8b01ff0e069b9275f58929596ceb00d14d90e3e16cd6"
   }
  }
 },
 "nbformat": 4,
 "nbformat_minor": 2
}
