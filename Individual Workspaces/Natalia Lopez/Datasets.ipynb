{
 "cells": [
  {
   "cell_type": "code",
   "execution_count": null,
   "metadata": {},
   "outputs": [],
   "source": [
    "# Dependencies\n",
    "import requests\n",
    "import json\n",
    "import pandas as pd\n",
    "import csv\n",
    "import os\n",
    "from pandas import json_normalize"
   ]
  },
  {
   "cell_type": "code",
   "execution_count": null,
   "metadata": {},
   "outputs": [],
   "source": [
    "# Call for Openaq\n",
    "url = \"https://api.openaq.org/v2/locations?parameters=pm25\"\n",
    "aq_response = requests.get(url)\n",
    "aq_data = aq_response.json()\n",
    "aq_data"
   ]
  },
  {
   "cell_type": "code",
   "execution_count": null,
   "metadata": {},
   "outputs": [],
   "source": [
    "if aq_response.status_code == 200:\n",
    "    aq_data = aq_response.json()\n",
    "else:\n",
    "    print(\"Failed to fetch data from the API.\")\n",
    "    exit()"
   ]
  },
  {
   "cell_type": "code",
   "execution_count": null,
   "metadata": {},
   "outputs": [],
   "source": [
    "# Save JSON to a File\n",
    "with open('aq_data.json', 'w') as json_file:\n",
    "    json.dump(aq_data, json_file)"
   ]
  },
  {
   "cell_type": "code",
   "execution_count": null,
   "metadata": {},
   "outputs": [],
   "source": [
    "# Read the JSON file\n",
    "with open('aq_data.json', 'r') as file:\n",
    "    json_data = json.load(file)"
   ]
  },
  {
   "cell_type": "code",
   "execution_count": null,
   "metadata": {},
   "outputs": [],
   "source": [
    "# Convert JSON to CSV\n",
    "aq_csv_data = []\n",
    "for item in aq_data ['results']:\n",
    "    aq_csv_data.append([item['id'], item['city'], item['name'], item['country'], item['parameters']])\n",
    "  "
   ]
  },
  {
   "cell_type": "code",
   "execution_count": null,
   "metadata": {},
   "outputs": [],
   "source": [
    "# Write CSV to \"resources\" Folder\n",
    "# Define the CSV file\n",
    "aq_csv_file_path = os.path.join('../../Resources/aq_data.csv')\n",
    "\n",
    "with open(aq_csv_file_path, 'w', newline='') as csv_file:\n",
    "    csv_writer = csv.writer(csv_file)\n",
    "    csv_writer.writerow(['id', 'city', 'name', 'country', 'parameters'])\n",
    "    csv_writer.writerows(aq_csv_data)\n",
    "\n",
    "print(f'CSV file saved to: {aq_csv_file_path}')"
   ]
  },
  {
   "cell_type": "markdown",
   "metadata": {},
   "source": [
    "# Cleaning the dataframe to separate columns parameters and coordinates"
   ]
  },
  {
   "cell_type": "code",
   "execution_count": null,
   "metadata": {},
   "outputs": [],
   "source": [
    "# Read the JSON file\n",
    "with open('aq_data.json', 'r') as file:\n",
    "    json_data = json.load(file)"
   ]
  },
  {
   "cell_type": "code",
   "execution_count": null,
   "metadata": {},
   "outputs": [],
   "source": [
    "# Extract the 'results' list\n",
    "results = json_data['results']\n",
    "\n",
    "# Flatten the JSON data into a list of dictionaries\n",
    "flattened_data = []\n",
    "for entry in results:\n",
    "    flat_entry = {}\n",
    "    for key, value in entry.items():\n",
    "        if isinstance(value, dict):\n",
    "            for nested_key, nested_value in value.items():\n",
    "                flat_entry[f'{key}_{nested_key}'] = nested_value\n",
    "        else:\n",
    "            flat_entry[key] = value\n",
    "            flattened_data.append(flat_entry)\n",
    "\n",
    "# Create a DataFrame from the flattened data\n",
    "df = pd.DataFrame(flattened_data)\n",
    "\n",
    "# Print the DataFrame\n",
    "print(df)"
   ]
  },
  {
   "cell_type": "code",
   "execution_count": null,
   "metadata": {},
   "outputs": [],
   "source": [
    "print(df.columns)"
   ]
  },
  {
   "cell_type": "code",
   "execution_count": null,
   "metadata": {},
   "outputs": [],
   "source": [
    "df.to_csv('output.csv', index=False)"
   ]
  },
  {
   "cell_type": "markdown",
   "metadata": {},
   "source": [
    "# Other method"
   ]
  },
  {
   "cell_type": "code",
   "execution_count": null,
   "metadata": {},
   "outputs": [],
   "source": [
    "# Read the JSON file\n",
    "with open('aq_data.json', 'r') as file:\n",
    "    json_data = json.load(file)"
   ]
  },
  {
   "cell_type": "code",
   "execution_count": null,
   "metadata": {},
   "outputs": [],
   "source": [
    "# Create a list of dictionaries for each row with all keys and corresponding values\n",
    "extracted_data = []\n",
    "for item in aq_data['results']:\n",
    "    extracted_data.append(item)"
   ]
  },
  {
   "cell_type": "code",
   "execution_count": null,
   "metadata": {},
   "outputs": [],
   "source": [
    "# Create a dataframe from the extracted data\n",
    "df2 = pd.DataFrame(extracted_data)\n",
    "df2"
   ]
  }
 ],
 "metadata": {
  "kernelspec": {
   "display_name": "intro_python_requirements_osx",
   "language": "python",
   "name": "python3"
  },
  "language_info": {
   "codemirror_mode": {
    "name": "ipython",
    "version": 3
   },
   "file_extension": ".py",
   "mimetype": "text/x-python",
   "name": "python",
   "nbconvert_exporter": "python",
   "pygments_lexer": "ipython3",
   "version": "3.11.3"
  },
  "orig_nbformat": 4
 },
 "nbformat": 4,
 "nbformat_minor": 2
}
