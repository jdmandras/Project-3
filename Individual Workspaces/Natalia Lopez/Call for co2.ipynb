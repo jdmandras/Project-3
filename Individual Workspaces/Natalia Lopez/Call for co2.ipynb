{
 "cells": [
  {
   "cell_type": "code",
   "execution_count": 1,
   "metadata": {},
   "outputs": [],
   "source": [
    "#API Call of Global Warming CO2\n",
    "import requests\n",
    "import json\n",
    "import pandas as pd\n",
    "import csv\n",
    "import os\n",
    "import matplotlib.pyplot as plt"
   ]
  },
  {
   "cell_type": "code",
   "execution_count": null,
   "metadata": {},
   "outputs": [],
   "source": [
    "# Make API Call and Get JSON Data\n",
    "url = 'https://global-warming.org/api/co2-api'\n",
    "\n",
    "co2_response = requests.get(url)\n",
    "\n",
    "print(co2_response.json())"
   ]
  },
  {
   "cell_type": "code",
   "execution_count": null,
   "metadata": {},
   "outputs": [],
   "source": [
    "if co2_response.status_code == 200:\n",
    "    data = co2_response.json()\n",
    "else:\n",
    "    print(\"Failed to fetch data from the API.\")\n",
    "    exit()"
   ]
  },
  {
   "cell_type": "code",
   "execution_count": null,
   "metadata": {},
   "outputs": [],
   "source": [
    "# Save JSON to a File\n",
    "with open('data.json', 'w') as json_file:\n",
    "    json.dump(data, json_file)"
   ]
  },
  {
   "cell_type": "code",
   "execution_count": null,
   "metadata": {},
   "outputs": [],
   "source": [
    "# Read JSON Data\n",
    "with open('data.json', 'r') as json_file:\n",
    "    data = json.load(json_file)"
   ]
  },
  {
   "cell_type": "code",
   "execution_count": null,
   "metadata": {},
   "outputs": [],
   "source": [
    "data"
   ]
  },
  {
   "cell_type": "code",
   "execution_count": null,
   "metadata": {},
   "outputs": [],
   "source": [
    "# Convert JSON to CSV\n",
    "csv_data = []\n",
    "for item in data['co2']:\n",
    "    csv_data.append([item['year'], item['month'], item['day'], item['cycle'], item['trend']])\n",
    "    #print (item)"
   ]
  },
  {
   "cell_type": "code",
   "execution_count": null,
   "metadata": {},
   "outputs": [],
   "source": [
    "# Write CSV to \"resources\" Folder\n",
    "# Define the CSV file\n",
    "csv_file_path = os.path.join('../../Resources/co2_data.csv')\n",
    "\n",
    "with open(csv_file_path, 'w', newline='') as csv_file:\n",
    "    csv_writer = csv.writer(csv_file)\n",
    "    csv_writer.writerow(['year', 'month', 'day', 'cycle', 'trend'])\n",
    "    csv_writer.writerows(csv_data)\n",
    "\n",
    "print(f'CSV file saved to: {csv_file_path}')"
   ]
  },
  {
   "cell_type": "code",
   "execution_count": 2,
   "metadata": {},
   "outputs": [
    {
     "data": {
      "text/html": [
       "<div>\n",
       "<style scoped>\n",
       "    .dataframe tbody tr th:only-of-type {\n",
       "        vertical-align: middle;\n",
       "    }\n",
       "\n",
       "    .dataframe tbody tr th {\n",
       "        vertical-align: top;\n",
       "    }\n",
       "\n",
       "    .dataframe thead th {\n",
       "        text-align: right;\n",
       "    }\n",
       "</style>\n",
       "<table border=\"1\" class=\"dataframe\">\n",
       "  <thead>\n",
       "    <tr style=\"text-align: right;\">\n",
       "      <th></th>\n",
       "      <th>year</th>\n",
       "      <th>month</th>\n",
       "      <th>day</th>\n",
       "      <th>cycle</th>\n",
       "      <th>trend</th>\n",
       "    </tr>\n",
       "  </thead>\n",
       "  <tbody>\n",
       "    <tr>\n",
       "      <th>0</th>\n",
       "      <td>2013</td>\n",
       "      <td>2</td>\n",
       "      <td>6</td>\n",
       "      <td>396.08</td>\n",
       "      <td>394.55</td>\n",
       "    </tr>\n",
       "    <tr>\n",
       "      <th>1</th>\n",
       "      <td>2013</td>\n",
       "      <td>2</td>\n",
       "      <td>7</td>\n",
       "      <td>396.10</td>\n",
       "      <td>394.55</td>\n",
       "    </tr>\n",
       "    <tr>\n",
       "      <th>2</th>\n",
       "      <td>2013</td>\n",
       "      <td>2</td>\n",
       "      <td>8</td>\n",
       "      <td>396.12</td>\n",
       "      <td>394.56</td>\n",
       "    </tr>\n",
       "    <tr>\n",
       "      <th>3</th>\n",
       "      <td>2013</td>\n",
       "      <td>2</td>\n",
       "      <td>9</td>\n",
       "      <td>396.14</td>\n",
       "      <td>394.57</td>\n",
       "    </tr>\n",
       "    <tr>\n",
       "      <th>4</th>\n",
       "      <td>2013</td>\n",
       "      <td>2</td>\n",
       "      <td>10</td>\n",
       "      <td>396.16</td>\n",
       "      <td>394.58</td>\n",
       "    </tr>\n",
       "    <tr>\n",
       "      <th>...</th>\n",
       "      <td>...</td>\n",
       "      <td>...</td>\n",
       "      <td>...</td>\n",
       "      <td>...</td>\n",
       "      <td>...</td>\n",
       "    </tr>\n",
       "    <tr>\n",
       "      <th>3843</th>\n",
       "      <td>2023</td>\n",
       "      <td>8</td>\n",
       "      <td>16</td>\n",
       "      <td>415.79</td>\n",
       "      <td>419.53</td>\n",
       "    </tr>\n",
       "    <tr>\n",
       "      <th>3844</th>\n",
       "      <td>2023</td>\n",
       "      <td>8</td>\n",
       "      <td>17</td>\n",
       "      <td>415.73</td>\n",
       "      <td>419.54</td>\n",
       "    </tr>\n",
       "    <tr>\n",
       "      <th>3845</th>\n",
       "      <td>2023</td>\n",
       "      <td>8</td>\n",
       "      <td>18</td>\n",
       "      <td>415.68</td>\n",
       "      <td>419.54</td>\n",
       "    </tr>\n",
       "    <tr>\n",
       "      <th>3846</th>\n",
       "      <td>2023</td>\n",
       "      <td>8</td>\n",
       "      <td>19</td>\n",
       "      <td>415.63</td>\n",
       "      <td>419.55</td>\n",
       "    </tr>\n",
       "    <tr>\n",
       "      <th>3847</th>\n",
       "      <td>2023</td>\n",
       "      <td>8</td>\n",
       "      <td>20</td>\n",
       "      <td>415.57</td>\n",
       "      <td>419.56</td>\n",
       "    </tr>\n",
       "  </tbody>\n",
       "</table>\n",
       "<p>3848 rows × 5 columns</p>\n",
       "</div>"
      ],
      "text/plain": [
       "      year  month  day   cycle   trend\n",
       "0     2013      2    6  396.08  394.55\n",
       "1     2013      2    7  396.10  394.55\n",
       "2     2013      2    8  396.12  394.56\n",
       "3     2013      2    9  396.14  394.57\n",
       "4     2013      2   10  396.16  394.58\n",
       "...    ...    ...  ...     ...     ...\n",
       "3843  2023      8   16  415.79  419.53\n",
       "3844  2023      8   17  415.73  419.54\n",
       "3845  2023      8   18  415.68  419.54\n",
       "3846  2023      8   19  415.63  419.55\n",
       "3847  2023      8   20  415.57  419.56\n",
       "\n",
       "[3848 rows x 5 columns]"
      ]
     },
     "execution_count": 2,
     "metadata": {},
     "output_type": "execute_result"
    }
   ],
   "source": [
    "# Open and Read CSV File\n",
    "co2_data_csv_file_path = '../../resources/co2_data.csv'\n",
    "\n",
    "co2_data_frame = pd.read_csv(co2_data_csv_file_path)\n",
    "co2_data_frame"
   ]
  },
  {
   "cell_type": "code",
   "execution_count": null,
   "metadata": {},
   "outputs": [],
   "source": [
    "# Plotting the trend by date\n",
    "co2_data_frame['trend'].plot(figsize=(10, 6))\n",
    "plt.title('CO2 Levels Trend 2013-2023')\n",
    "plt.xlabel('Time (days)')\n",
    "plt.ylabel('Trend')\n",
    "plot_file_path = 'co2byday_plot.png'\n",
    "plt.savefig(plot_file_path)\n",
    "plt.show()"
   ]
  },
  {
   "cell_type": "code",
   "execution_count": null,
   "metadata": {},
   "outputs": [],
   "source": [
    "# Group data by year and perform aggregation (e.g., calculate mean)\n",
    "co2_grouped_by_year = co2_data_frame.groupby('year').mean()\n",
    "\n",
    "# Display the grouped data\n",
    "print(co2_grouped_by_year)"
   ]
  },
  {
   "cell_type": "code",
   "execution_count": null,
   "metadata": {},
   "outputs": [],
   "source": [
    "# Plotting the trend by date\n",
    "co2_grouped_by_year['trend'].plot(figsize=(10, 6))\n",
    "plt.title('Trend by Date')\n",
    "plt.xlabel('Year')\n",
    "plt.ylabel('Trend')\n",
    "plot_file_path = 'co2byyear_plot.png'\n",
    "plt.savefig(plot_file_path)\n",
    "plt.show()"
   ]
  },
  {
   "cell_type": "code",
   "execution_count": null,
   "metadata": {},
   "outputs": [],
   "source": [
    "# Select specific columns\n",
    "selected_columns = co2_data_frame[['month','trend']]\n",
    "\n",
    "print(selected_columns)"
   ]
  },
  {
   "cell_type": "code",
   "execution_count": null,
   "metadata": {},
   "outputs": [],
   "source": [
    "# Select data from a specific year (e.g., 2020)\n",
    "data_from_year_reset_index = selected_columns.reset_index()\n",
    "\n",
    "print(data_from_year_reset_index)"
   ]
  },
  {
   "cell_type": "code",
   "execution_count": null,
   "metadata": {},
   "outputs": [],
   "source": [
    "year_to_select = 2020\n",
    "data_from_year_2020 = data_from_year_reset_index[data_from_year_reset_index['year'] == year_to_select]\n",
    "\n",
    "print(data_from_year_2020)"
   ]
  },
  {
   "cell_type": "code",
   "execution_count": null,
   "metadata": {},
   "outputs": [],
   "source": [
    "co22020bymonth = data_from_year_2020.groupby('month').mean()"
   ]
  },
  {
   "cell_type": "code",
   "execution_count": null,
   "metadata": {},
   "outputs": [],
   "source": [
    "# Plotting the trend by month in 2020\n",
    "co22020bymonth['trend'].plot(figsize=(10, 6))\n",
    "plt.title('Trend by month in 2020')\n",
    "plt.xlabel('Month')\n",
    "plt.ylabel('Trend')\n",
    "plot_file_path = 'co2_2020_month_plot.png'\n",
    "plt.savefig(plot_file_path)\n",
    "plt.show()"
   ]
  },
  {
   "cell_type": "code",
   "execution_count": null,
   "metadata": {},
   "outputs": [],
   "source": []
  },
  {
   "cell_type": "code",
   "execution_count": null,
   "metadata": {},
   "outputs": [],
   "source": [
    "# Convert the year, month, and day columns into a single datetime column:\n",
    "\n",
    "co2_data_frame['date']= pd.to_datetime(co2_data_frame[['year', 'month', 'day']])"
   ]
  },
  {
   "cell_type": "code",
   "execution_count": null,
   "metadata": {},
   "outputs": [],
   "source": [
    "# Set the newly created datetime column as the index of your DataFrame:\n",
    "co2_data_frame.set_index('date', inplace=True)"
   ]
  },
  {
   "cell_type": "code",
   "execution_count": null,
   "metadata": {},
   "outputs": [],
   "source": [
    "# Plot the desired value over time using Matplotlib:\n",
    "\n",
    "# Create a custom formatted date string for y-axis labels\n",
    "co2_data_frame['formatted_date'] = co2_data_frame.index.strftime('%Y-%m-%d')\n",
    "\n",
    "plt.figure(figsize=(10, 6))\n",
    "plt.plot(co2_data_frame.index, co2_data_frame['trend'], marker='o', linestyle='-', color='purple', linewidth=2)\n",
    "plt.title('Progression of CO2 values Over Time')\n",
    "plt.xlabel('Date')\n",
    "plt.ylabel('Value')\n",
    "plt.xticks(rotation=90)\n",
    "#plt.xticks(co2_data_frame.index, co2_data_frame['formatted_date'])\n",
    "#plt.yticks(co2_data_frame['trend'])\n",
    "plt.grid(False)\n",
    "plt.tight_layout()\n",
    "plot_file_path = 'co2_dprogressionnotgrouped_plot.png'\n",
    "plt.savefig(plot_file_path)\n",
    "plt.show()"
   ]
  },
  {
   "cell_type": "markdown",
   "metadata": {},
   "source": [
    "# Clean CO2 dataset to print in dashboard"
   ]
  },
  {
   "cell_type": "code",
   "execution_count": 3,
   "metadata": {},
   "outputs": [
    {
     "data": {
      "text/html": [
       "<div>\n",
       "<style scoped>\n",
       "    .dataframe tbody tr th:only-of-type {\n",
       "        vertical-align: middle;\n",
       "    }\n",
       "\n",
       "    .dataframe tbody tr th {\n",
       "        vertical-align: top;\n",
       "    }\n",
       "\n",
       "    .dataframe thead th {\n",
       "        text-align: right;\n",
       "    }\n",
       "</style>\n",
       "<table border=\"1\" class=\"dataframe\">\n",
       "  <thead>\n",
       "    <tr style=\"text-align: right;\">\n",
       "      <th></th>\n",
       "      <th>year</th>\n",
       "      <th>month</th>\n",
       "      <th>day</th>\n",
       "      <th>cycle</th>\n",
       "      <th>trend</th>\n",
       "    </tr>\n",
       "  </thead>\n",
       "  <tbody>\n",
       "    <tr>\n",
       "      <th>0</th>\n",
       "      <td>2013</td>\n",
       "      <td>2</td>\n",
       "      <td>6</td>\n",
       "      <td>396.08</td>\n",
       "      <td>394.55</td>\n",
       "    </tr>\n",
       "    <tr>\n",
       "      <th>1</th>\n",
       "      <td>2013</td>\n",
       "      <td>2</td>\n",
       "      <td>7</td>\n",
       "      <td>396.10</td>\n",
       "      <td>394.55</td>\n",
       "    </tr>\n",
       "    <tr>\n",
       "      <th>2</th>\n",
       "      <td>2013</td>\n",
       "      <td>2</td>\n",
       "      <td>8</td>\n",
       "      <td>396.12</td>\n",
       "      <td>394.56</td>\n",
       "    </tr>\n",
       "    <tr>\n",
       "      <th>3</th>\n",
       "      <td>2013</td>\n",
       "      <td>2</td>\n",
       "      <td>9</td>\n",
       "      <td>396.14</td>\n",
       "      <td>394.57</td>\n",
       "    </tr>\n",
       "    <tr>\n",
       "      <th>4</th>\n",
       "      <td>2013</td>\n",
       "      <td>2</td>\n",
       "      <td>10</td>\n",
       "      <td>396.16</td>\n",
       "      <td>394.58</td>\n",
       "    </tr>\n",
       "    <tr>\n",
       "      <th>...</th>\n",
       "      <td>...</td>\n",
       "      <td>...</td>\n",
       "      <td>...</td>\n",
       "      <td>...</td>\n",
       "      <td>...</td>\n",
       "    </tr>\n",
       "    <tr>\n",
       "      <th>3843</th>\n",
       "      <td>2023</td>\n",
       "      <td>8</td>\n",
       "      <td>16</td>\n",
       "      <td>415.79</td>\n",
       "      <td>419.53</td>\n",
       "    </tr>\n",
       "    <tr>\n",
       "      <th>3844</th>\n",
       "      <td>2023</td>\n",
       "      <td>8</td>\n",
       "      <td>17</td>\n",
       "      <td>415.73</td>\n",
       "      <td>419.54</td>\n",
       "    </tr>\n",
       "    <tr>\n",
       "      <th>3845</th>\n",
       "      <td>2023</td>\n",
       "      <td>8</td>\n",
       "      <td>18</td>\n",
       "      <td>415.68</td>\n",
       "      <td>419.54</td>\n",
       "    </tr>\n",
       "    <tr>\n",
       "      <th>3846</th>\n",
       "      <td>2023</td>\n",
       "      <td>8</td>\n",
       "      <td>19</td>\n",
       "      <td>415.63</td>\n",
       "      <td>419.55</td>\n",
       "    </tr>\n",
       "    <tr>\n",
       "      <th>3847</th>\n",
       "      <td>2023</td>\n",
       "      <td>8</td>\n",
       "      <td>20</td>\n",
       "      <td>415.57</td>\n",
       "      <td>419.56</td>\n",
       "    </tr>\n",
       "  </tbody>\n",
       "</table>\n",
       "<p>3848 rows × 5 columns</p>\n",
       "</div>"
      ],
      "text/plain": [
       "      year  month  day   cycle   trend\n",
       "0     2013      2    6  396.08  394.55\n",
       "1     2013      2    7  396.10  394.55\n",
       "2     2013      2    8  396.12  394.56\n",
       "3     2013      2    9  396.14  394.57\n",
       "4     2013      2   10  396.16  394.58\n",
       "...    ...    ...  ...     ...     ...\n",
       "3843  2023      8   16  415.79  419.53\n",
       "3844  2023      8   17  415.73  419.54\n",
       "3845  2023      8   18  415.68  419.54\n",
       "3846  2023      8   19  415.63  419.55\n",
       "3847  2023      8   20  415.57  419.56\n",
       "\n",
       "[3848 rows x 5 columns]"
      ]
     },
     "execution_count": 3,
     "metadata": {},
     "output_type": "execute_result"
    }
   ],
   "source": [
    "co2_data_frame"
   ]
  },
  {
   "cell_type": "code",
   "execution_count": 4,
   "metadata": {},
   "outputs": [
    {
     "ename": "NameError",
     "evalue": "name 'csv_data' is not defined",
     "output_type": "error",
     "traceback": [
      "\u001b[0;31m---------------------------------------------------------------------------\u001b[0m",
      "\u001b[0;31mNameError\u001b[0m                                 Traceback (most recent call last)",
      "Cell \u001b[0;32mIn[4], line 6\u001b[0m\n\u001b[1;32m      4\u001b[0m     csv_writer \u001b[39m=\u001b[39m csv\u001b[39m.\u001b[39mwriter(csv_file)\n\u001b[1;32m      5\u001b[0m     csv_writer\u001b[39m.\u001b[39mwriterow([\u001b[39m'\u001b[39m\u001b[39myear\u001b[39m\u001b[39m'\u001b[39m, \u001b[39m'\u001b[39m\u001b[39mmonth\u001b[39m\u001b[39m'\u001b[39m, \u001b[39m'\u001b[39m\u001b[39mtrend\u001b[39m\u001b[39m'\u001b[39m])\n\u001b[0;32m----> 6\u001b[0m     csv_writer\u001b[39m.\u001b[39mwriterows(csv_data)\n\u001b[1;32m      8\u001b[0m \u001b[39mprint\u001b[39m(\u001b[39mf\u001b[39m\u001b[39m'\u001b[39m\u001b[39mCSV file saved to: \u001b[39m\u001b[39m{\u001b[39;00mcsv_file_path\u001b[39m}\u001b[39;00m\u001b[39m'\u001b[39m)\n",
      "\u001b[0;31mNameError\u001b[0m: name 'csv_data' is not defined"
     ]
    }
   ],
   "source": []
  }
 ],
 "metadata": {
  "kernelspec": {
   "display_name": "Python 3",
   "language": "python",
   "name": "python3"
  },
  "language_info": {
   "codemirror_mode": {
    "name": "ipython",
    "version": 3
   },
   "file_extension": ".py",
   "mimetype": "text/x-python",
   "name": "python",
   "nbconvert_exporter": "python",
   "pygments_lexer": "ipython3",
   "version": "3.11.3"
  },
  "orig_nbformat": 4,
  "vscode": {
   "interpreter": {
    "hash": "31f2aee4e71d21fbe5cf8b01ff0e069b9275f58929596ceb00d14d90e3e16cd6"
   }
  }
 },
 "nbformat": 4,
 "nbformat_minor": 2
}
