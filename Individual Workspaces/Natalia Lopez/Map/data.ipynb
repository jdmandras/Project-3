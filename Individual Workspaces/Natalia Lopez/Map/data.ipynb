{
 "cells": [
  {
   "cell_type": "code",
   "execution_count": 1,
   "metadata": {},
   "outputs": [],
   "source": [
    "# Dependencies\n",
    "import csv"
   ]
  },
  {
   "cell_type": "code",
   "execution_count": 13,
   "metadata": {},
   "outputs": [],
   "source": [
    "# Read CSV and convert to JavaScript data\n",
    "js_data = []\n",
    "with open('../../../Resources/global air pollution dataset.csv', 'r') as csvfile:\n",
    "    reader = csv.DictReader(csvfile)\n",
    "    for row in reader:\n",
    "        js_data.append(row)"
   ]
  },
  {
   "cell_type": "code",
   "execution_count": 11,
   "metadata": {},
   "outputs": [],
   "source": [
    "# Generate JavaScript code\n",
    "js_code = \"var data = \" + str(js_data) + \";\""
   ]
  },
  {
   "cell_type": "code",
   "execution_count": 12,
   "metadata": {},
   "outputs": [],
   "source": [
    "# Write JavaScript code to a file\n",
    "with open('data.js', 'w') as jsfile:\n",
    "    jsfile.write(js_code)"
   ]
  },
  {
   "cell_type": "code",
   "execution_count": 16,
   "metadata": {},
   "outputs": [],
   "source": [
    "# Read global air polution dataset.csv and convert to JavaScript data\n",
    "csv_data = []\n",
    "with open('../../../Resources/global air pollution dataset.csv', 'r') as csvfile:\n",
    "    reader = csv.DictReader(csvfile)\n",
    "    for row in reader:\n",
    "        csv_data.append(row)\n",
    "\n"
   ]
  },
  {
   "cell_type": "code",
   "execution_count": 20,
   "metadata": {},
   "outputs": [],
   "source": [
    "# Read coordinates.csv and create a dictionary with city as key\n",
    "coordinates = {}\n",
    "with open('../../../Resources/worldcities.csv', 'r') as coordfile:\n",
    "    reader = csv.DictReader(coordfile)\n",
    "    for row in reader:\n",
    "        city = row['city']\n",
    "        coordinates[city] = {\n",
    "            \"lat\": float(row['lat']),\n",
    "            \"lng\": float(row['lng'])\n",
    "        }"
   ]
  },
  {
   "cell_type": "code",
   "execution_count": 21,
   "metadata": {},
   "outputs": [],
   "source": [
    "# Merge data with coordinates\n",
    "merged_data = []\n",
    "for item in csv_data:\n",
    "    city = item['City']\n",
    "    if city in coordinates:\n",
    "        item['Latitude'] = coordinates[city]['lat']\n",
    "        item['Longitude'] = coordinates[city]['lng']\n",
    "        merged_data.append(item)"
   ]
  },
  {
   "cell_type": "code",
   "execution_count": 22,
   "metadata": {},
   "outputs": [],
   "source": [
    "# Generate JavaScript code\n",
    "js_code = \"var data = \" + str(merged_data) + \";\""
   ]
  },
  {
   "cell_type": "code",
   "execution_count": 23,
   "metadata": {},
   "outputs": [],
   "source": [
    "# Write JavaScript code to a file\n",
    "with open('merged_data.js', 'w') as jsfile:\n",
    "    jsfile.write(js_code)"
   ]
  }
 ],
 "metadata": {
  "kernelspec": {
   "display_name": "intro_python_requirements_osx",
   "language": "python",
   "name": "python3"
  },
  "language_info": {
   "codemirror_mode": {
    "name": "ipython",
    "version": 3
   },
   "file_extension": ".py",
   "mimetype": "text/x-python",
   "name": "python",
   "nbconvert_exporter": "python",
   "pygments_lexer": "ipython3",
   "version": "3.11.3"
  },
  "orig_nbformat": 4
 },
 "nbformat": 4,
 "nbformat_minor": 2
}
