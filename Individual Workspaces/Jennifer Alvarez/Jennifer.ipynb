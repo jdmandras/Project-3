{
 "cells": [
  {
   "cell_type": "code",
   "execution_count": 1,
   "metadata": {},
   "outputs": [],
   "source": [
    "# pip install datapackage"
   ]
  },
  {
   "cell_type": "code",
   "execution_count": 2,
   "metadata": {},
   "outputs": [],
   "source": [
    "# pip install pygwalker"
   ]
  },
  {
   "cell_type": "code",
   "execution_count": 3,
   "metadata": {},
   "outputs": [],
   "source": [
    "## Web source method\n",
    "\n",
    "# import dependencies\n",
    "# import datapackage\n",
    "# import pandas as pd\n",
    "# import pygwalker as pyg\n",
    "\n",
    "\n",
    "# data_url = 'https://datahub.io/core/sea-level-rise/datapackage.json'\n",
    "\n",
    "# # to load Data Package into storage\n",
    "# package = datapackage.Package(data_url)\n",
    "\n",
    "# # to load only tabular data\n",
    "# resources = package.resources\n",
    "# for resource in resources:\n",
    "#     if resource.tabular:\n",
    "#         data = pd.read_csv(resource.descriptor['path'])\n",
    "#         print (data)"
   ]
  },
  {
   "cell_type": "code",
   "execution_count": 4,
   "metadata": {},
   "outputs": [],
   "source": [
    "## CSV method\n",
    "\n",
    "#import dependencies & setup\n",
    "import pandas as pd\n",
    "from pathlib import Path\n",
    "import matplotlib.pyplot as plt\n",
    "\n",
    "\n",
    "# file to load \n",
    "epa_sea_level_to_load = Path(\"Resources/epa-sea-level.csv\")\n",
    "\n",
    "# read CSV\n",
    "sea_level_data = pd.read_csv(epa_sea_level_to_load)\n",
    "\n",
    "# convert to pandas df\n",
    "sea_level_df = pd.DataFrame(sea_level_data)\n",
    "# sea_level_df.head()"
   ]
  },
  {
   "cell_type": "markdown",
   "metadata": {},
   "source": [
    "### CSIRO (Commonwealth Scientific and Industrial Research Organization) Data \n",
    " This data contains “cumulative changes in sea level for the world’s oceans since 1880, based on a combination of long-term tide gauge measurements and recent satellite measurements. It shows average absolute sea level change, which refers to the height of the ocean surface, regardless of whether nearby land is rising or falling. The data is recorded in inches."
   ]
  },
  {
   "cell_type": "code",
   "execution_count": 5,
   "metadata": {},
   "outputs": [
    {
     "data": {
      "text/html": [
       "<div>\n",
       "<style scoped>\n",
       "    .dataframe tbody tr th:only-of-type {\n",
       "        vertical-align: middle;\n",
       "    }\n",
       "\n",
       "    .dataframe tbody tr th {\n",
       "        vertical-align: top;\n",
       "    }\n",
       "\n",
       "    .dataframe thead th {\n",
       "        text-align: right;\n",
       "    }\n",
       "</style>\n",
       "<table border=\"1\" class=\"dataframe\">\n",
       "  <thead>\n",
       "    <tr style=\"text-align: right;\">\n",
       "      <th></th>\n",
       "      <th>Year</th>\n",
       "      <th>CSIRO Adjusted Sea Level (in)</th>\n",
       "      <th>Lower Error Bound</th>\n",
       "      <th>Upper Error Bound</th>\n",
       "      <th>NOAA Adjusted Sea Level (in)</th>\n",
       "    </tr>\n",
       "  </thead>\n",
       "  <tbody>\n",
       "    <tr>\n",
       "      <th>0</th>\n",
       "      <td>3/15/1880</td>\n",
       "      <td>0.000000</td>\n",
       "      <td>-0.952756</td>\n",
       "      <td>0.952756</td>\n",
       "      <td>NaN</td>\n",
       "    </tr>\n",
       "    <tr>\n",
       "      <th>1</th>\n",
       "      <td>3/15/1891</td>\n",
       "      <td>0.220472</td>\n",
       "      <td>-0.732283</td>\n",
       "      <td>1.173228</td>\n",
       "      <td>NaN</td>\n",
       "    </tr>\n",
       "    <tr>\n",
       "      <th>2</th>\n",
       "      <td>3/15/1892</td>\n",
       "      <td>-0.440945</td>\n",
       "      <td>-1.346457</td>\n",
       "      <td>0.464567</td>\n",
       "      <td>NaN</td>\n",
       "    </tr>\n",
       "    <tr>\n",
       "      <th>3</th>\n",
       "      <td>3/15/1893</td>\n",
       "      <td>-0.232283</td>\n",
       "      <td>-1.129921</td>\n",
       "      <td>0.665354</td>\n",
       "      <td>NaN</td>\n",
       "    </tr>\n",
       "    <tr>\n",
       "      <th>4</th>\n",
       "      <td>3/15/1894</td>\n",
       "      <td>0.590551</td>\n",
       "      <td>-0.283465</td>\n",
       "      <td>1.464567</td>\n",
       "      <td>NaN</td>\n",
       "    </tr>\n",
       "  </tbody>\n",
       "</table>\n",
       "</div>"
      ],
      "text/plain": [
       "        Year  CSIRO Adjusted Sea Level (in)  Lower Error Bound  \\\n",
       "0  3/15/1880                       0.000000          -0.952756   \n",
       "1  3/15/1891                       0.220472          -0.732283   \n",
       "2  3/15/1892                      -0.440945          -1.346457   \n",
       "3  3/15/1893                      -0.232283          -1.129921   \n",
       "4  3/15/1894                       0.590551          -0.283465   \n",
       "\n",
       "   Upper Error Bound  NOAA Adjusted Sea Level (in)  \n",
       "0           0.952756                           NaN  \n",
       "1           1.173228                           NaN  \n",
       "2           0.464567                           NaN  \n",
       "3           0.665354                           NaN  \n",
       "4           1.464567                           NaN  "
      ]
     },
     "execution_count": 5,
     "metadata": {},
     "output_type": "execute_result"
    }
   ],
   "source": [
    "sea_level_df.head()"
   ]
  },
  {
   "cell_type": "code",
   "execution_count": 6,
   "metadata": {},
   "outputs": [
    {
     "data": {
      "text/plain": [
       "3/15/1892    2\n",
       "3/15/1893    2\n",
       "3/15/1894    2\n",
       "3/15/1895    2\n",
       "3/15/1896    2\n",
       "            ..\n",
       "3/15/1932    1\n",
       "3/15/1931    1\n",
       "3/15/1930    1\n",
       "3/15/1929    1\n",
       "3/15/2014    1\n",
       "Name: Year, Length: 126, dtype: int64"
      ]
     },
     "execution_count": 6,
     "metadata": {},
     "output_type": "execute_result"
    }
   ],
   "source": [
    "years_count = sea_level_df['Year'].value_counts()\n",
    "years_count"
   ]
  },
  {
   "cell_type": "markdown",
   "metadata": {},
   "source": [
    "## Statistical Analysis"
   ]
  }
 ],
 "metadata": {
  "kernelspec": {
   "display_name": "base",
   "language": "python",
   "name": "python3"
  },
  "language_info": {
   "codemirror_mode": {
    "name": "ipython",
    "version": 3
   },
   "file_extension": ".py",
   "mimetype": "text/x-python",
   "name": "python",
   "nbconvert_exporter": "python",
   "pygments_lexer": "ipython3",
   "version": "3.10.12"
  },
  "orig_nbformat": 4
 },
 "nbformat": 4,
 "nbformat_minor": 2
}
